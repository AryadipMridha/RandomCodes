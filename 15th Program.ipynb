{
 "cells": [
  {
   "cell_type": "code",
   "execution_count": 3,
   "metadata": {},
   "outputs": [
    {
     "name": "stdout",
     "output_type": "stream",
     "text": [
      "Enter the letter.\n",
      "NoneB\n",
      "The ASCII value of 'B' is 66\n"
     ]
    }
   ],
   "source": [
    "#Program to find ASCII code\n",
    "let=input(print(\"Enter the letter.\"))\n",
    "\n",
    "print(\"The ASCII value of '\" + let + \"' is\", ord(let)) "
   ]
  },
  {
   "cell_type": "code",
   "execution_count": null,
   "metadata": {},
   "outputs": [],
   "source": []
  }
 ],
 "metadata": {
  "kernelspec": {
   "display_name": "Python 3",
   "language": "python",
   "name": "python3"
  }
 },
 "nbformat": 4,
 "nbformat_minor": 4
}
