{
 "cells": [
  {
   "cell_type": "code",
   "execution_count": 20,
   "metadata": {},
   "outputs": [
    {
     "name": "stdout",
     "output_type": "stream",
     "text": [
      "Enter the principle amount:5\n",
      "Enter the rate:5\n",
      "Enter the time:2\n",
      "The compound ineterest is: 0.5125000000000002\n"
     ]
    }
   ],
   "source": [
    "#Program to find compound interest\n",
    "\n",
    "def compoundinterest(p,r,t):\n",
    "    ci=p*(pow((1 + r / 100),t))-p\n",
    "    return ci\n",
    "\n",
    "#driver code\n",
    "\n",
    "p= float(input(\"Enter the principle amount:\"))\n",
    "r= float(input(\"Enter the rate:\"))\n",
    "t= float(input(\"Enter the time:\"))\n",
    "\n",
    "#Calling the function\n",
    "ci=compoundinterest(p,r,t)\n",
    "\n",
    "print (\"The compound interest is: {}\".format(ci))"
   ]
  },
  {
   "cell_type": "code",
   "execution_count": null,
   "metadata": {},
   "outputs": [],
   "source": []
  },
  {
   "cell_type": "code",
   "execution_count": 21,
   "metadata": {},
   "outputs": [
    {
     "name": "stdout",
     "output_type": "stream",
     "text": [
      "Enter the principal amount : 5\n",
      "Enter the number of years : 2\n",
      "Enter the rate of interest : 5\n",
      "Amount after ci added : 5.5125\n"
     ]
    }
   ],
   "source": [
    "def compoundInterest(p, r, t):\n",
    "    ci = p * (pow((1 + r / 100), t)) \n",
    "    return ci\n",
    "   \n",
    "  \n",
    "p = float(input(\"Enter the principal amount : \"))\n",
    " \n",
    "t = float(input(\"Enter the number of years : \"))\n",
    " \n",
    "r = float(input(\"Enter the rate of interest : \"))\n",
    " \n",
    "#call compound interest\n",
    "ci =  compoundInterest(p, r, t) \n",
    " \n",
    "#print\n",
    "print(\"Amount after ci added : {}\".format(ci))"
   ]
  },
  {
   "cell_type": "code",
   "execution_count": null,
   "metadata": {},
   "outputs": [],
   "source": []
  }
 ],
 "metadata": {
  "kernelspec": {
   "display_name": "Python 3",
   "language": "python",
   "name": "python3"
  },
  "language_info": {
   "codemirror_mode": {
    "name": "ipython",
    "version": 3
   },
   "file_extension": ".py",
   "mimetype": "text/x-python",
   "name": "python",
   "nbconvert_exporter": "python",
   "pygments_lexer": "ipython3",
   "version": "3.8.3"
  }
 },
 "nbformat": 4,
 "nbformat_minor": 4
}
