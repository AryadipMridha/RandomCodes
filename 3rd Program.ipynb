{
 "cells": [
  {
   "cell_type": "code",
   "execution_count": 5,
   "metadata": {},
   "outputs": [
    {
     "name": "stdout",
     "output_type": "stream",
     "text": [
      "Enter first number9\n",
      "\n",
      "Enter the second5\n",
      "The sum of 9 and 5 is 14.0\n"
     ]
    }
   ],
   "source": [
    "#Programs to add two numbers provided by the user\n",
    "num1=input(\"Enter first number\");\n",
    "num2=input(\"\\nEnter the second\");\n",
    "sum=float(num1)+float(num2);\n",
    "\n",
    "print(\"The sum of {0} and {1} is {2}\".format(num1,num2,sum));"
   ]
  },
  {
   "cell_type": "code",
   "execution_count": null,
   "metadata": {},
   "outputs": [],
   "source": []
  }
 ],
 "metadata": {
  "kernelspec": {
   "display_name": "Python 3",
   "language": "python",
   "name": "python3"
  },
  "language_info": {
   "codemirror_mode": {
    "name": "ipython",
    "version": 3
   },
   "file_extension": ".py",
   "mimetype": "text/x-python",
   "name": "python",
   "nbconvert_exporter": "python",
   "pygments_lexer": "ipython3",
   "version": "3.8.3"
  }
 },
 "nbformat": 4,
 "nbformat_minor": 4
}
