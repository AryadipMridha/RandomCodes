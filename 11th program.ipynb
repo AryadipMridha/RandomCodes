{
 "cells": [
  {
   "cell_type": "code",
   "execution_count": 6,
   "metadata": {},
   "outputs": [
    {
     "name": "stdout",
     "output_type": "stream",
     "text": [
      "Enter number:4\n",
      "not automorphic\n"
     ]
    }
   ],
   "source": [
    "#Check whether its automorphic or not\n",
    "num=int(input('Enter number:'))\n",
    "sq=num**2\n",
    "#logic\n",
    "n=len(str(num))\n",
    "last=sq%pow(10,n)\n",
    "#driver code\n",
    "if num==last:\n",
    "    print(\"The number is automorphic.\")\n",
    "else:\n",
    "    print ('not automorphic')"
   ]
  },
  {
   "cell_type": "code",
   "execution_count": null,
   "metadata": {},
   "outputs": [],
   "source": []
  }
 ],
 "metadata": {
  "kernelspec": {
   "display_name": "Python 3",
   "language": "python",
   "name": "python3"
  },
  "language_info": {
   "codemirror_mode": {
    "name": "ipython",
    "version": 3
   },
   "file_extension": ".py",
   "mimetype": "text/x-python",
   "name": "python",
   "nbconvert_exporter": "python",
   "pygments_lexer": "ipython3",
   "version": "3.8.3"
  }
 },
 "nbformat": 4,
 "nbformat_minor": 4
}
