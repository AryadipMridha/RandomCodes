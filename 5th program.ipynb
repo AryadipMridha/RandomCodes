{
 "cells": [
  {
   "cell_type": "code",
   "execution_count": 1,
   "metadata": {},
   "outputs": [
    {
     "ename": "SyntaxError",
     "evalue": "invalid syntax (<ipython-input-1-71af93ea73c0>, line 2)",
     "output_type": "error",
     "traceback": [
      "\u001b[1;36m  File \u001b[1;32m\"<ipython-input-1-71af93ea73c0>\"\u001b[1;36m, line \u001b[1;32m2\u001b[0m\n\u001b[1;33m    a=def factorial(n):\u001b[0m\n\u001b[1;37m      ^\u001b[0m\n\u001b[1;31mSyntaxError\u001b[0m\u001b[1;31m:\u001b[0m invalid syntax\n"
     ]
    }
   ],
   "source": [
    "#Program to find the greatest number but using max function and asking user to input the numbers.\n",
    "a=def factorial(n): \n",
    "  \n",
    "    # single line to find factorial \n",
    "    return 1 if (n==1 or n==0) else n * factorial(n - 1)  \n",
    "  \n",
    "  \n",
    "# Driver Code \n",
    "num = def factorial(n): \n",
    "  \n",
    "    # single line to find factorial \n",
    "    return 1 if (n==1 or n==0) else n * factorial(n - 1)  \n",
    "  \n",
    "  \n",
    "\n",
    "num = 5\n",
    "print (\"Factorial of\",num,\"is\", \n",
    "      factorial(num)) \n",
    "print (\"Factorial of\",num,\"is\", \n",
    "      factorial(num)) \n",
    "\n",
    "maximum=max(a,b)\n",
    "print(maximum);"
   ]
  },
  {
   "cell_type": "code",
   "execution_count": null,
   "metadata": {},
   "outputs": [],
   "source": []
  }
 ],
 "metadata": {
  "kernelspec": {
   "display_name": "Python 3",
   "language": "python",
   "name": "python3"
  },
  "language_info": {
   "codemirror_mode": {
    "name": "ipython",
    "version": 3
   },
   "file_extension": ".py",
   "mimetype": "text/x-python",
   "name": "python",
   "nbconvert_exporter": "python",
   "pygments_lexer": "ipython3",
   "version": "3.8.3"
  }
 },
 "nbformat": 4,
 "nbformat_minor": 4
}
