{
 "cells": [
  {
   "cell_type": "code",
   "execution_count": 14,
   "metadata": {},
   "outputs": [
    {
     "name": "stdout",
     "output_type": "stream",
     "text": [
      "Enter the number to check:407\n",
      "Number is armstrong!\n"
     ]
    }
   ],
   "source": [
    "#To check a given number is amstrong or not\n",
    "num=int(input(\"Enter the number to check:\"))\n",
    "order=len(str(num))\n",
    "sum=0\n",
    "temp=num\n",
    "#lOGIC\n",
    "while (temp>0):\n",
    "    digit=temp%10\n",
    "    sum+=digit ** order\n",
    "    temp //=10\n",
    "if num==sum:\n",
    "    print(\"Number is armstrong!\")\n",
    "else :\n",
    "    print(\"Not an amrstrong mnumber\")\n",
    "\n"
   ]
  },
  {
   "cell_type": "code",
   "execution_count": 13,
   "metadata": {},
   "outputs": [
    {
     "name": "stdout",
     "output_type": "stream",
     "text": [
      "Enter the number to check:407\n",
      "407 is an Armstrong number\n"
     ]
    }
   ],
   "source": []
  },
  {
   "cell_type": "code",
   "execution_count": null,
   "metadata": {},
   "outputs": [],
   "source": []
  }
 ],
 "metadata": {
  "kernelspec": {
   "display_name": "Python 3",
   "language": "python",
   "name": "python3"
  },
  "language_info": {
   "codemirror_mode": {
    "name": "ipython",
    "version": 3
   },
   "file_extension": ".py",
   "mimetype": "text/x-python",
   "name": "python",
   "nbconvert_exporter": "python",
   "pygments_lexer": "ipython3",
   "version": "3.8.3"
  }
 },
 "nbformat": 4,
 "nbformat_minor": 4
}
