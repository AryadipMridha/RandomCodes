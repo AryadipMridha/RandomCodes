{
 "cells": [
  {
   "cell_type": "code",
   "execution_count": 11,
   "metadata": {},
   "outputs": [
    {
     "name": "stdout",
     "output_type": "stream",
     "text": [
      "The principle is: 100\n",
      "The rate is: 2\n",
      "The time is: 1\n",
      "Simple interest is: 2.0\n"
     ]
    },
    {
     "data": {
      "text/plain": [
       "2.0"
      ]
     },
     "execution_count": 11,
     "metadata": {},
     "output_type": "execute_result"
    }
   ],
   "source": [
    "#Program to find the simple interest\n",
    "def simple_interest(p,r,t):\n",
    "    print('The principle is:',p)\n",
    "    print('The rate is:',r)\n",
    "    print('The time is:',t)\n",
    "    si=(p*r*t)/100;\n",
    "    print('Simple interest is:',si)\n",
    "    return si\n",
    "#driver code\n",
    "simple_interest(100,2,1)\n",
    "    "
   ]
  },
  {
   "cell_type": "code",
   "execution_count": null,
   "metadata": {},
   "outputs": [],
   "source": []
  }
 ],
 "metadata": {
  "kernelspec": {
   "display_name": "Python 3",
   "language": "python",
   "name": "python3"
  },
  "language_info": {
   "codemirror_mode": {
    "name": "ipython",
    "version": 3
   },
   "file_extension": ".py",
   "mimetype": "text/x-python",
   "name": "python",
   "nbconvert_exporter": "python",
   "pygments_lexer": "ipython3",
   "version": "3.8.3"
  }
 },
 "nbformat": 4,
 "nbformat_minor": 4
}
