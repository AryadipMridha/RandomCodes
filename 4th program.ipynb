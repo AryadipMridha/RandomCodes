{
 "cells": [
  {
   "cell_type": "code",
   "execution_count": 18,
   "metadata": {},
   "outputs": [
    {
     "name": "stdout",
     "output_type": "stream",
     "text": [
      "35\n"
     ]
    }
   ],
   "source": [
    "#Program to find greatest of two number\n",
    "def maximum(a,b):\n",
    "    if a>=b:\n",
    "        return a\n",
    "    else: \n",
    "        return b\n",
    "\n",
    "#driver code\n",
    "a = 9\n",
    "b = 35\n",
    "print(maximum(a,b))\n"
   ]
  },
  {
   "cell_type": "code",
   "execution_count": null,
   "metadata": {},
   "outputs": [],
   "source": []
  },
  {
   "cell_type": "code",
   "execution_count": 13,
   "metadata": {},
   "outputs": [
    {
     "name": "stdout",
     "output_type": "stream",
     "text": [
      "4\n"
     ]
    }
   ],
   "source": [
    "# Python program to find the \n",
    "# maximum of two numbers \n",
    "  \n",
    "  \n",
    "def maximum(a, b): \n",
    "      \n",
    "    if a >= b: \n",
    "        return a \n",
    "    else: \n",
    "        return b \n",
    "      \n",
    "# Driver code \n",
    "a = 2\n",
    "b = 4\n",
    "print(maximum(a, b)) "
   ]
  },
  {
   "cell_type": "code",
   "execution_count": null,
   "metadata": {},
   "outputs": [],
   "source": []
  }
 ],
 "metadata": {
  "kernelspec": {
   "display_name": "Python 3",
   "language": "python",
   "name": "python3"
  },
  "language_info": {
   "codemirror_mode": {
    "name": "ipython",
    "version": 3
   },
   "file_extension": ".py",
   "mimetype": "text/x-python",
   "name": "python",
   "nbconvert_exporter": "python",
   "pygments_lexer": "ipython3",
   "version": "3.8.3"
  }
 },
 "nbformat": 4,
 "nbformat_minor": 4
}
