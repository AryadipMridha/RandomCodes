{
 "cells": [
  {
   "cell_type": "code",
   "execution_count": 14,
   "metadata": {},
   "outputs": [
    {
     "name": "stdout",
     "output_type": "stream",
     "text": [
      "The factorial for 5 is 120\n"
     ]
    }
   ],
   "source": [
    "#Program for find factorial but in one line\n",
    "\n",
    "def factorial(n):\n",
    "    return 1 if (n==0 or n==1) else n* factorial(n-1)\n",
    "\n",
    "# driver code\n",
    "num= 5\n",
    "print (\"The factorial for\", 5 ,\"is\", factorial(num))"
   ]
  },
  {
   "cell_type": "code",
   "execution_count": 42,
   "metadata": {},
   "outputs": [
    {
     "name": "stdout",
     "output_type": "stream",
     "text": [
      "The factorial of 6 is 720\n"
     ]
    }
   ],
   "source": [
    "#Program to factorial finding but its iterative\n",
    "\n",
    "def factorial(n):\n",
    "     if n < 0:\n",
    "        return 0\n",
    "     elif n==0 or n==1:\n",
    "        return 1\n",
    "     else:\n",
    "        fact=1\n",
    "        while(n>1):\n",
    "            fact*=n\n",
    "            n-=1\n",
    "        return fact\n",
    "# driver code\n",
    "num=6;\n",
    "print (\"The factorial of\",num,'is',factorial(num))"
   ]
  },
  {
   "cell_type": "code",
   "execution_count": 36,
   "metadata": {},
   "outputs": [
    {
     "name": "stdout",
     "output_type": "stream",
     "text": [
      "Factorial of 5 is 120\n"
     ]
    }
   ],
   "source": [
    "def factorial(n): \n",
    "    if n < 0: \n",
    "        return 0\n",
    "    elif n == 0 or n == 1: \n",
    "        return 1\n",
    "    else: \n",
    "        fact = 1\n",
    "        while(n > 1): \n",
    "            fact *= n \n",
    "            n -= 1\n",
    "        return fact \n",
    "  \n",
    "# Driver Code \n",
    "num = 5; \n",
    "print(\"Factorial of\",num,\"is\", \n",
    "factorial(num)) "
   ]
  },
  {
   "cell_type": "code",
   "execution_count": null,
   "metadata": {},
   "outputs": [],
   "source": [
    "def factorial(n):\n",
    "    if n <"
   ]
  }
 ],
 "metadata": {
  "kernelspec": {
   "display_name": "Python 3",
   "language": "python",
   "name": "python3"
  },
  "language_info": {
   "codemirror_mode": {
    "name": "ipython",
    "version": 3
   },
   "file_extension": ".py",
   "mimetype": "text/x-python",
   "name": "python",
   "nbconvert_exporter": "python",
   "pygments_lexer": "ipython3",
   "version": "3.8.3"
  }
 },
 "nbformat": 4,
 "nbformat_minor": 4
}
