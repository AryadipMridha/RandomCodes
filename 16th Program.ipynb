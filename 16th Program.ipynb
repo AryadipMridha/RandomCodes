{
 "cells": [
  {
   "cell_type": "code",
   "execution_count": 1,
   "metadata": {},
   "outputs": [
    {
     "name": "stdout",
     "output_type": "stream",
     "text": [
      "Enter the list size : 3\n",
      "\n",
      "\n",
      "Enter number at location 0 :\n",
      "5\n",
      "Enter number at location 1 :\n",
      "4\n",
      "Enter number at location 2 :\n",
      "7\n",
      "User List is  [5, 4, 7]\n"
     ]
    }
   ],
   "source": [
    "numberList = []\n",
    "n = int(input(\"Enter the list size : \"))\n",
    "\n",
    "print(\"\\n\")\n",
    "for i in range(0, n):\n",
    "    print(\"Enter number at location\", i, \":\")\n",
    "    item = int(input())\n",
    "    numberList.append(item)\n",
    "print(\"User List is \", numberList)\n",
    "def largest(arr,n):\n",
    "max = arr[0]\n",
    "for i in range(1, n):\n",
    "if arr[i] > max:\n",
    "max = arr[i]\n",
    "return max\n",
    "\n",
    "Ans = largest(arr,n)\n",
    "print (\"Largest in given array is\",Ans)\n"
   ]
  },
  {
   "cell_type": "code",
   "execution_count": 1,
   "metadata": {},
   "outputs": [
    {
     "ename": "SyntaxError",
     "evalue": "invalid syntax (<ipython-input-1-d17fd5efe355>, line 2)",
     "output_type": "error",
     "traceback": [
      "\u001b[1;36m  File \u001b[1;32m\"<ipython-input-1-d17fd5efe355>\"\u001b[1;36m, line \u001b[1;32m2\u001b[0m\n\u001b[1;33m    n= len(arr)\u001b[0m\n\u001b[1;37m    ^\u001b[0m\n\u001b[1;31mSyntaxError\u001b[0m\u001b[1;31m:\u001b[0m invalid syntax\n"
     ]
    }
   ],
   "source": [
    "arr=int(input('Enter the element of an array:')\n",
    "n= len(arr)\n",
    "def largest(arr,n):\n",
    "max = arr[0]\n",
    "for i in range(1, n):\n",
    "if arr[i] > max:\n",
    "max = arr[i]\n",
    "return max\n",
    "\n",
    "Ans = largest(arr,n)\n",
    "print (\"Largest in given array is\",Ans)"
   ]
  },
  {
   "cell_type": "code",
   "execution_count": null,
   "metadata": {},
   "outputs": [],
   "source": []
  }
 ],
 "metadata": {
  "kernelspec": {
   "display_name": "Python 3",
   "language": "python",
   "name": "python3"
  },
  "language_info": {
   "codemirror_mode": {
    "name": "ipython",
    "version": 3
   },
   "file_extension": ".py",
   "mimetype": "text/x-python",
   "name": "python",
   "nbconvert_exporter": "python",
   "pygments_lexer": "ipython3",
   "version": "3.8.3"
  }
 },
 "nbformat": 4,
 "nbformat_minor": 4
}
