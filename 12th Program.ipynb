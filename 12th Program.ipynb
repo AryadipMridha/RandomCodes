{
 "cells": [
  {
   "cell_type": "code",
   "execution_count": 1,
   "metadata": {},
   "outputs": [
    {
     "name": "stdout",
     "output_type": "stream",
     "text": [
      "Enter a number12\n",
      "Abundant\n"
     ]
    }
   ],
   "source": [
    "#checking whether a number is abundant or not😃\n",
    "num=int(input(\"Enter a number\"))\n",
    "divisor=0\n",
    "abundance=0\n",
    "\n",
    "for i in range(1,num):\n",
    "    if num%i==0:\n",
    "        divisor+=i\n",
    "    if divisor>num:\n",
    "        abundance=1\n",
    "if abundance==1:\n",
    "    print(\"Abundant\")\n",
    "else:\n",
    "    print(\"Not abundant\")\n"
   ]
  },
  {
   "cell_type": "code",
   "execution_count": null,
   "metadata": {},
   "outputs": [],
   "source": []
  }
 ],
 "metadata": {
  "kernelspec": {
   "display_name": "Python 3",
   "language": "python",
   "name": "python3"
  },
  "language_info": {
   "codemirror_mode": {
    "name": "ipython",
    "version": 3
   },
   "file_extension": ".py",
   "mimetype": "text/x-python",
   "name": "python",
   "nbconvert_exporter": "python",
   "pygments_lexer": "ipython3",
   "version": "3.8.3"
  }
 },
 "nbformat": 4,
 "nbformat_minor": 4
}
